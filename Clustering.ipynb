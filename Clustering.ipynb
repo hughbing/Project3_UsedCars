{
 "cells": [
  {
   "cell_type": "code",
   "execution_count": 81,
   "metadata": {},
   "outputs": [],
   "source": [
    "import matplotlib.pyplot as plt\n",
    "import pandas as pd\n",
    "import numpy as np\n",
    "from mpl_toolkits.mplot3d import Axes3D"
   ]
  },
  {
   "cell_type": "code",
   "execution_count": 82,
   "metadata": {},
   "outputs": [],
   "source": [
    "data = pd.read_csv(\"new_data.csv\")"
   ]
  },
  {
   "cell_type": "code",
   "execution_count": 83,
   "metadata": {},
   "outputs": [
    {
     "data": {
      "text/html": [
       "<div>\n",
       "<style scoped>\n",
       "    .dataframe tbody tr th:only-of-type {\n",
       "        vertical-align: middle;\n",
       "    }\n",
       "\n",
       "    .dataframe tbody tr th {\n",
       "        vertical-align: top;\n",
       "    }\n",
       "\n",
       "    .dataframe thead th {\n",
       "        text-align: right;\n",
       "    }\n",
       "</style>\n",
       "<table border=\"1\" class=\"dataframe\">\n",
       "  <thead>\n",
       "    <tr style=\"text-align: right;\">\n",
       "      <th></th>\n",
       "      <th>Make</th>\n",
       "      <th>Model</th>\n",
       "      <th>Year</th>\n",
       "      <th>Engine HP</th>\n",
       "      <th>Number of Doors</th>\n",
       "      <th>Market Category</th>\n",
       "      <th>Vehicle Size</th>\n",
       "      <th>Vehicle Style</th>\n",
       "      <th>average mpg</th>\n",
       "      <th>Popularity</th>\n",
       "      <th>MSRP</th>\n",
       "    </tr>\n",
       "  </thead>\n",
       "  <tbody>\n",
       "    <tr>\n",
       "      <th>0</th>\n",
       "      <td>BMW</td>\n",
       "      <td>1 Series M</td>\n",
       "      <td>2011</td>\n",
       "      <td>335</td>\n",
       "      <td>2.0</td>\n",
       "      <td>Factory Tuner,Luxury,High-Performance</td>\n",
       "      <td>Compact</td>\n",
       "      <td>Coupe</td>\n",
       "      <td>22.5</td>\n",
       "      <td>3916</td>\n",
       "      <td>46135</td>\n",
       "    </tr>\n",
       "    <tr>\n",
       "      <th>1</th>\n",
       "      <td>BMW</td>\n",
       "      <td>1 Series</td>\n",
       "      <td>2011</td>\n",
       "      <td>300</td>\n",
       "      <td>2.0</td>\n",
       "      <td>Luxury,Performance</td>\n",
       "      <td>Compact</td>\n",
       "      <td>Convertible</td>\n",
       "      <td>23.5</td>\n",
       "      <td>3916</td>\n",
       "      <td>40650</td>\n",
       "    </tr>\n",
       "    <tr>\n",
       "      <th>2</th>\n",
       "      <td>BMW</td>\n",
       "      <td>1 Series</td>\n",
       "      <td>2011</td>\n",
       "      <td>300</td>\n",
       "      <td>2.0</td>\n",
       "      <td>Luxury,High-Performance</td>\n",
       "      <td>Compact</td>\n",
       "      <td>Coupe</td>\n",
       "      <td>24.0</td>\n",
       "      <td>3916</td>\n",
       "      <td>36350</td>\n",
       "    </tr>\n",
       "    <tr>\n",
       "      <th>3</th>\n",
       "      <td>BMW</td>\n",
       "      <td>1 Series</td>\n",
       "      <td>2011</td>\n",
       "      <td>230</td>\n",
       "      <td>2.0</td>\n",
       "      <td>Luxury,Performance</td>\n",
       "      <td>Compact</td>\n",
       "      <td>Coupe</td>\n",
       "      <td>23.0</td>\n",
       "      <td>3916</td>\n",
       "      <td>29450</td>\n",
       "    </tr>\n",
       "    <tr>\n",
       "      <th>4</th>\n",
       "      <td>BMW</td>\n",
       "      <td>1 Series</td>\n",
       "      <td>2011</td>\n",
       "      <td>230</td>\n",
       "      <td>2.0</td>\n",
       "      <td>Luxury</td>\n",
       "      <td>Compact</td>\n",
       "      <td>Convertible</td>\n",
       "      <td>23.0</td>\n",
       "      <td>3916</td>\n",
       "      <td>34500</td>\n",
       "    </tr>\n",
       "  </tbody>\n",
       "</table>\n",
       "</div>"
      ],
      "text/plain": [
       "  Make       Model  Year  Engine HP  Number of Doors  \\\n",
       "0  BMW  1 Series M  2011        335              2.0   \n",
       "1  BMW    1 Series  2011        300              2.0   \n",
       "2  BMW    1 Series  2011        300              2.0   \n",
       "3  BMW    1 Series  2011        230              2.0   \n",
       "4  BMW    1 Series  2011        230              2.0   \n",
       "\n",
       "                         Market Category Vehicle Size Vehicle Style  \\\n",
       "0  Factory Tuner,Luxury,High-Performance      Compact         Coupe   \n",
       "1                     Luxury,Performance      Compact   Convertible   \n",
       "2                Luxury,High-Performance      Compact         Coupe   \n",
       "3                     Luxury,Performance      Compact         Coupe   \n",
       "4                                 Luxury      Compact   Convertible   \n",
       "\n",
       "   average mpg  Popularity   MSRP  \n",
       "0         22.5        3916  46135  \n",
       "1         23.5        3916  40650  \n",
       "2         24.0        3916  36350  \n",
       "3         23.0        3916  29450  \n",
       "4         23.0        3916  34500  "
      ]
     },
     "execution_count": 83,
     "metadata": {},
     "output_type": "execute_result"
    }
   ],
   "source": [
    "data.head()"
   ]
  },
  {
   "cell_type": "code",
   "execution_count": 84,
   "metadata": {},
   "outputs": [],
   "source": [
    "clustering_data = data[['Year','Engine HP','Number of Doors','average mpg','Popularity','MSRP']]"
   ]
  },
  {
   "cell_type": "code",
   "execution_count": 110,
   "metadata": {},
   "outputs": [],
   "source": [
    "df_visual = clustering_data[['Engine HP', 'average mpg','MSRP']]\n",
    "df_cluster = clustering_data[['Engine HP', 'average mpg']]"
   ]
  },
  {
   "cell_type": "code",
   "execution_count": 111,
   "metadata": {},
   "outputs": [],
   "source": [
    "x=df_cluster.copy()\n",
    "\n",
    "from sklearn.cluster import KMeans\n",
    "kmeans = KMeans(n_clusters=4)\n",
    "\n",
    "kmeans.fit(x)\n",
    "\n",
    "# Use the data to predict the clusters\n",
    "# save the predictions as `predicted_clusters`\n",
    "predicted_clusters = kmeans.predict(x)"
   ]
  },
  {
   "cell_type": "code",
   "execution_count": 112,
   "metadata": {},
   "outputs": [],
   "source": [
    "df = pd.DataFrame(predicted_clusters)"
   ]
  },
  {
   "cell_type": "code",
   "execution_count": 113,
   "metadata": {},
   "outputs": [],
   "source": [
    "#df.to_csv('results.csv',index=False)"
   ]
  },
  {
   "cell_type": "code",
   "execution_count": 114,
   "metadata": {},
   "outputs": [
    {
     "name": "stdout",
     "output_type": "stream",
     "text": [
      "       Engine HP\n",
      "0            335\n",
      "1            300\n",
      "2            300\n",
      "3            230\n",
      "4            230\n",
      "5            230\n",
      "6            300\n",
      "7            300\n",
      "8            230\n",
      "9            230\n",
      "10           300\n",
      "11           230\n",
      "12           300\n",
      "13           230\n",
      "14           230\n",
      "15           320\n",
      "16           320\n",
      "17           172\n",
      "18           172\n",
      "19           172\n",
      "20           172\n",
      "21           172\n",
      "22           172\n",
      "23           172\n",
      "24           172\n",
      "25           172\n",
      "26           172\n",
      "27           172\n",
      "28           172\n",
      "29           172\n",
      "...          ...\n",
      "11815        225\n",
      "11816        184\n",
      "11817        225\n",
      "11818        225\n",
      "11819        184\n",
      "11820        225\n",
      "11821        330\n",
      "11822        330\n",
      "11823        330\n",
      "11824        330\n",
      "11825        240\n",
      "11826        300\n",
      "11827        335\n",
      "11828        240\n",
      "11829        300\n",
      "11830        335\n",
      "11831        300\n",
      "11832        240\n",
      "11833        335\n",
      "11834        394\n",
      "11835        394\n",
      "11836        394\n",
      "11837        300\n",
      "11838        300\n",
      "11839        300\n",
      "11840        300\n",
      "11841        300\n",
      "11842        300\n",
      "11843        300\n",
      "11844        221\n",
      "\n",
      "[11845 rows x 1 columns]\n",
      "       average mpg\n",
      "0             22.5\n",
      "1             23.5\n",
      "2             24.0\n",
      "3             23.0\n",
      "4             23.0\n",
      "5             23.0\n",
      "6             21.5\n",
      "7             24.0\n",
      "8             23.0\n",
      "9             22.5\n",
      "10            24.0\n",
      "11            23.5\n",
      "12            23.5\n",
      "13            23.5\n",
      "14            23.5\n",
      "15            21.5\n",
      "16            24.0\n",
      "17            20.5\n",
      "18            20.5\n",
      "19            18.0\n",
      "20            20.5\n",
      "21            18.5\n",
      "22            20.5\n",
      "23            18.0\n",
      "24            20.5\n",
      "25            20.5\n",
      "26            18.5\n",
      "27            18.5\n",
      "28            19.0\n",
      "29            19.5\n",
      "...            ...\n",
      "11815         22.5\n",
      "11816         21.5\n",
      "11817         22.5\n",
      "11818         22.5\n",
      "11819         21.5\n",
      "11820         22.5\n",
      "11821         18.5\n",
      "11822         18.5\n",
      "11823         19.0\n",
      "11824         19.0\n",
      "11825         28.0\n",
      "11826         22.5\n",
      "11827         20.5\n",
      "11828         28.0\n",
      "11829         20.5\n",
      "11830         20.5\n",
      "11831         20.5\n",
      "11832         28.0\n",
      "11833         20.5\n",
      "11834         15.5\n",
      "11835         15.5\n",
      "11836         15.5\n",
      "11837         19.5\n",
      "11838         19.5\n",
      "11839         19.5\n",
      "11840         19.5\n",
      "11841         19.5\n",
      "11842         19.5\n",
      "11843         19.5\n",
      "11844         21.5\n",
      "\n",
      "[11845 rows x 1 columns]\n",
      "(11845, 1) (11845, 1) (11845, 1)\n"
     ]
    }
   ],
   "source": [
    "x = clustering_data[['Engine HP']]\n",
    "print(x)\n",
    "y = clustering_data[['average mpg']]\n",
    "z = clustering_data[['MSRP']]\n",
    "print(y)\n",
    "print(x.shape,y.shape,z.shape)"
   ]
  },
  {
   "cell_type": "code",
   "execution_count": 115,
   "metadata": {},
   "outputs": [
    {
     "data": {
      "image/png": "[encoded data removed]",
      "text/plain": [
       "<Figure size 432x288 with 1 Axes>"
      ]
     },
     "metadata": {
      "needs_background": "light"
     },
     "output_type": "display_data"
    }
   ],
   "source": [
    "# Plot the clusters\n",
    "#plt.scatter(X[:, 0], X[:, 1], c=predicted_clusters, s=50, cmap='viridis')\n",
    "plt.scatter(x['Engine HP'], y['average mpg'], c=predicted_clusters, s=50)\n",
    "plt.show()"
   ]
  },
  {
   "cell_type": "code",
   "execution_count": 116,
   "metadata": {},
   "outputs": [],
   "source": [
    "df3 = pd.DataFrame()"
   ]
  },
  {
   "cell_type": "code",
   "execution_count": 117,
   "metadata": {},
   "outputs": [],
   "source": [
    "df3['hp'] = x['Engine HP']\n",
    "df3['mpg'] = y['average mpg']\n",
    "df3['class'] = predicted_clusters\n",
    "#df3.to_csv('classified', index=False)"
   ]
  },
  {
   "cell_type": "code",
   "execution_count": 127,
   "metadata": {},
   "outputs": [
    {
     "data": {
      "image/png": "[encoded data removed]",
      "text/plain": [
       "<Figure size 432x288 with 1 Axes>"
      ]
     },
     "metadata": {
      "needs_background": "light"
     },
     "output_type": "display_data"
    }
   ],
   "source": [
    "fig = plt.figure()\n",
    "ax = fig.add_subplot(111,projection='3d')\n",
    "\n",
    "x_array = x.to_numpy()\n",
    "y_array = y.to_numpy()\n",
    "z_array = z.to_numpy()\n",
    "\n",
    "ax.scatter(x_array,y_array,z_array, c='g', marker='x')\n",
    "\n",
    "ax.set_xlabel('Engine HP')\n",
    "ax.set_ylabel('average mpg')\n",
    "ax.set_zlabel('MSRP')\n",
    "\n",
    "plt.show()"
   ]
  },
  {
   "cell_type": "code",
   "execution_count": 60,
   "metadata": {},
   "outputs": [],
   "source": []
  },
  {
   "cell_type": "code",
   "execution_count": 62,
   "metadata": {},
   "outputs": [],
   "source": []
  },
  {
   "cell_type": "code",
   "execution_count": null,
   "metadata": {},
   "outputs": [],
   "source": []
  }
 ],
 "metadata": {
  "kernelspec": {
   "display_name": "Python 3",
   "language": "python",
   "name": "python3"
  },
  "language_info": {
   "codemirror_mode": {
    "name": "ipython",
    "version": 3
   },
   "file_extension": ".py",
   "mimetype": "text/x-python",
   "name": "python",
   "nbconvert_exporter": "python",
   "pygments_lexer": "ipython3",
   "version": "3.7.1"
  }
 },
 "nbformat": 4,
 "nbformat_minor": 4
}
